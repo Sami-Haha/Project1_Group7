{
 "cells": [
  {
   "cell_type": "code",
   "execution_count": null,
   "id": "4c0ebe62",
   "metadata": {},
   "outputs": [],
   "source": [
    "#Dependencies and Setup\n",
    "from pathlib import Path\n",
    "import pandas as pd\n",
    "import requests\n",
    "import warnings\n",
    "import json\n",
    "from pprint import pprint\n",
    "warnings.filterwarnings('ignore')\n",
    "# Import the ABS Census API\n",
    "from config import Census_key"
   ]
  },
  {
   "cell_type": "code",
   "execution_count": null,
   "id": "1e48b605",
   "metadata": {},
   "outputs": [],
   "source": [
    "url = 'https://api.data.abs.gov.au/data/ABS,C21_G17_POA,1.0.0/3.....8+7+6+5+4+3+2+1?startPeriod=2021&detail=dataonly&dimensionAtObservation=AllDimensions&format=jsondata'\n",
    "headers = {'x-api-key': 'Census_key'}\n",
    "\n",
    "\n"
   ]
  },
  {
   "cell_type": "code",
   "execution_count": null,
   "id": "69a1c90e",
   "metadata": {},
   "outputs": [],
   "source": [
    "#Make get request\n",
    "response = requests.get(url, headers = headers)\n",
    "#check to see if successful\n",
    "if response.status_code == 200:\n",
    "    #parse the json response\n",
    "    data = response.json()\n",
    "    #pprint (data)\n",
    "    #Extract the observations from the dataset\n",
    "    data_sets = data.get('data', {}).get('dataSets', [])\n",
    "    if data_sets:\n",
    "        first_ds = data_sets[0]\n",
    "        obs_data = first_ds.get('observations', {})\n",
    "        try:\n",
    "            df = pd.DataFrame(obs_data)\n",
    "            df.to_csv('A1_copy.csv', index=False)\n",
    "        except Exception as e:\n",
    "            print(f'Error message: {e}')\n",
    "    else:\n",
    "        print('no datasets found')\n",
    "else:\n",
    "    print(f'API request failed {response.status_code}')\n",
    "    "
   ]
  },
  {
   "cell_type": "code",
   "execution_count": null,
   "id": "0d3c9357",
   "metadata": {},
   "outputs": [],
   "source": [
    "#read in csv to datafile\n",
    "obs_df = pd.read_csv('A1_copy.csv')\n",
    "#remove the extra columns using column indices\n",
    "columns_to_keep_indices = [2,3,4,6,8]\n",
    "obs_df = obs_df.iloc[:, columns_to_keep_indices]\n",
    "#remove extra values in columns using indices, note only first 5 columns need cleaning\n",
    "columns_to_clean = obs_df.columns[:4]\n",
    "# Apply the split operation to the specified columns\n",
    "obs_df[columns_to_clean] = obs_df[columns_to_clean].apply(lambda x: x.apply(lambda y: str(y).split(':')[1]))\n",
    "# Apply new column names\n",
    "Col_names = ['Total personal income (weekly)', 'Age', 'Postcode', 'State', 'Population']\n",
    "obs_df.columns = Col_names\n",
    "\n",
    "# Save the modified DataFrame back to a new CSV file \n",
    "obs_df.to_csv('C_obs_clean.csv', index=False)\n",
    "obs_df.head()"
   ]
  },
  {
   "cell_type": "code",
   "execution_count": null,
   "id": "ef620574",
   "metadata": {},
   "outputs": [],
   "source": [
    " "
   ]
  }
 ],
 "metadata": {
  "kernelspec": {
   "display_name": "Python 3 (ipykernel)",
   "language": "python",
   "name": "python3"
  },
  "language_info": {
   "codemirror_mode": {
    "name": "ipython",
    "version": 3
   },
   "file_extension": ".py",
   "mimetype": "text/x-python",
   "name": "python",
   "nbconvert_exporter": "python",
   "pygments_lexer": "ipython3",
   "version": "3.10.13"
  }
 },
 "nbformat": 4,
 "nbformat_minor": 5
}
