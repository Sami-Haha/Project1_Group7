{
 "cells": [
  {
   "cell_type": "code",
   "execution_count": 1,
   "id": "4c0ebe62",
   "metadata": {},
   "outputs": [],
   "source": [
    "#Dependencies and Setup\n",
    "from pathlib import Path\n",
    "import pandas as pd\n",
    "#import requests\n",
    "#import warnings\n",
    "#import json\n",
    "#from pprint import pprint\n",
    "#warnings.filterwarnings('ignore')\n",
    "# Import the ABS Census API\n",
    "#from config import Census_key"
   ]
  },
  {
   "cell_type": "code",
   "execution_count": null,
   "id": "1e48b605",
   "metadata": {},
   "outputs": [],
   "source": [
    "#url = 'https://api.data.abs.gov.au/data/ABS,C21_G17_POA,1.0.0/3.....8+7+6+5+4+3+2+1?startPeriod=2021&detail=dataonly&dimensionAtObservation=AllDimensions&format=jsondata'\n",
    "#headers = {'x-api-key': 'Census_key'}\n",
    "\n",
    "\n"
   ]
  },
  {
   "cell_type": "code",
   "execution_count": null,
   "id": "69a1c90e",
   "metadata": {},
   "outputs": [],
   "source": [
    "#Make get request\n",
    "#response = requests.get(url, headers = headers)\n",
    "#check to see if successful\n",
    "#if response.status_code == 200:\n",
    "    #parse the json response\n",
    "#    data = response.json()\n",
    "    #pprint (data)\n",
    "    #Extract the observations from the dataset\n",
    "#    data_sets = data.get('data', {}).get('dataSets', [])\n",
    "#    if data_sets:\n",
    "#        first_ds = data_sets[0]\n",
    "#        obs_data = first_ds.get('observations', {})\n",
    "#        try:\n",
    "#            df = pd.DataFrame(obs_data)\n",
    "#            df.to_csv('A1_copy.csv', index=False)\n",
    "#        except Exception as e:\n",
    "#            print(f'Error message: {e}')\n",
    "#    else:\n",
    "#        print('no datasets found')\n",
    "#else:\n",
    "#    print(f'API request failed {response.status_code}')\n",
    "    "
   ]
  },
  {
   "cell_type": "code",
   "execution_count": 2,
   "id": "0d3c9357",
   "metadata": {},
   "outputs": [
    {
     "data": {
      "text/html": [
       "<div>\n",
       "<style scoped>\n",
       "    .dataframe tbody tr th:only-of-type {\n",
       "        vertical-align: middle;\n",
       "    }\n",
       "\n",
       "    .dataframe tbody tr th {\n",
       "        vertical-align: top;\n",
       "    }\n",
       "\n",
       "    .dataframe thead th {\n",
       "        text-align: right;\n",
       "    }\n",
       "</style>\n",
       "<table border=\"1\" class=\"dataframe\">\n",
       "  <thead>\n",
       "    <tr style=\"text-align: right;\">\n",
       "      <th></th>\n",
       "      <th>Total personal income (weekly)</th>\n",
       "      <th>Age</th>\n",
       "      <th>Postcode</th>\n",
       "      <th>State</th>\n",
       "      <th>Population</th>\n",
       "    </tr>\n",
       "  </thead>\n",
       "  <tbody>\n",
       "    <tr>\n",
       "      <th>0</th>\n",
       "      <td>$1,750-$1,999</td>\n",
       "      <td>55-64 years</td>\n",
       "      <td>3856</td>\n",
       "      <td>Victoria</td>\n",
       "      <td>10</td>\n",
       "    </tr>\n",
       "    <tr>\n",
       "      <th>1</th>\n",
       "      <td>$3,000-$3499</td>\n",
       "      <td>15-19 years</td>\n",
       "      <td>3150</td>\n",
       "      <td>Victoria</td>\n",
       "      <td>0</td>\n",
       "    </tr>\n",
       "    <tr>\n",
       "      <th>2</th>\n",
       "      <td>$2,000-$2,999</td>\n",
       "      <td>45-54 years</td>\n",
       "      <td>3196</td>\n",
       "      <td>Victoria</td>\n",
       "      <td>578</td>\n",
       "    </tr>\n",
       "    <tr>\n",
       "      <th>3</th>\n",
       "      <td>$1,750-$1,999</td>\n",
       "      <td>85 years and over</td>\n",
       "      <td>3249</td>\n",
       "      <td>Victoria</td>\n",
       "      <td>0</td>\n",
       "    </tr>\n",
       "    <tr>\n",
       "      <th>4</th>\n",
       "      <td>$3,000-$3499</td>\n",
       "      <td>Total</td>\n",
       "      <td>3312</td>\n",
       "      <td>Victoria</td>\n",
       "      <td>13</td>\n",
       "    </tr>\n",
       "  </tbody>\n",
       "</table>\n",
       "</div>"
      ],
      "text/plain": [
       "  Total personal income (weekly)                 Age Postcode      State  \\\n",
       "0                  $1,750-$1,999         55-64 years     3856   Victoria   \n",
       "1                   $3,000-$3499         15-19 years     3150   Victoria   \n",
       "2                  $2,000-$2,999         45-54 years     3196   Victoria   \n",
       "3                  $1,750-$1,999   85 years and over     3249   Victoria   \n",
       "4                   $3,000-$3499               Total     3312   Victoria   \n",
       "\n",
       "   Population  \n",
       "0          10  \n",
       "1           0  \n",
       "2         578  \n",
       "3           0  \n",
       "4          13  "
      ]
     },
     "execution_count": 2,
     "metadata": {},
     "output_type": "execute_result"
    }
   ],
   "source": [
    "#define the path for reading files\n",
    "ABS_data = Path('Resources/A1_copy.csv')\n",
    "#read in csv to datafile\n",
    "obs_df = pd.read_csv(ABS_data)\n",
    "#remove the extra columns using column indices\n",
    "columns_to_keep_indices = [2,3,4,6,8]\n",
    "obs_df = obs_df.iloc[:, columns_to_keep_indices]\n",
    "#remove extra values in columns using indices, note only first 5 columns need cleaning\n",
    "columns_to_clean = obs_df.columns[:4]\n",
    "# Apply the split operation to the specified columns\n",
    "obs_df[columns_to_clean] = obs_df[columns_to_clean].apply(lambda x: x.apply(lambda y: str(y).split(':')[1]))\n",
    "# Apply new column names\n",
    "Col_names = ['Total personal income (weekly)', 'Age', 'Postcode', 'State', 'Population']\n",
    "obs_df.columns = Col_names\n",
    "\n",
    "# Save the modified DataFrame back to a new CSV file \n",
    "obs_df.to_csv('Resources/C_obs_clean.csv', index=False)\n",
    "obs_df.head()"
   ]
  },
  {
   "cell_type": "code",
   "execution_count": null,
   "id": "ef620574",
   "metadata": {},
   "outputs": [],
   "source": [
    " "
   ]
  }
 ],
 "metadata": {
  "kernelspec": {
   "display_name": "Python 3 (ipykernel)",
   "language": "python",
   "name": "python3"
  },
  "language_info": {
   "codemirror_mode": {
    "name": "ipython",
    "version": 3
   },
   "file_extension": ".py",
   "mimetype": "text/x-python",
   "name": "python",
   "nbconvert_exporter": "python",
   "pygments_lexer": "ipython3",
   "version": "3.10.13"
  }
 },
 "nbformat": 4,
 "nbformat_minor": 5
}
