{
 "cells": [
  {
   "cell_type": "code",
   "execution_count": 7,
   "id": "ecc7817b",
   "metadata": {},
   "outputs": [],
   "source": [
    "from pathlib import Path\n",
    "import pandas as pd"
   ]
  },
  {
   "cell_type": "code",
   "execution_count": 10,
   "id": "d1654aea",
   "metadata": {},
   "outputs": [],
   "source": [
    "path = Path(\"cleaned_post_code_registration.csv\")"
   ]
  },
  {
   "cell_type": "code",
   "execution_count": 11,
   "id": "7a248ec5",
   "metadata": {},
   "outputs": [],
   "source": [
    "read0 = pd.read_csv(path)"
   ]
  },
  {
   "cell_type": "code",
   "execution_count": 12,
   "id": "f2cd3eec",
   "metadata": {},
   "outputs": [
    {
     "data": {
      "text/html": [
       "<div>\n",
       "<style scoped>\n",
       "    .dataframe tbody tr th:only-of-type {\n",
       "        vertical-align: middle;\n",
       "    }\n",
       "\n",
       "    .dataframe tbody tr th {\n",
       "        vertical-align: top;\n",
       "    }\n",
       "\n",
       "    .dataframe thead th {\n",
       "        text-align: right;\n",
       "    }\n",
       "</style>\n",
       "<table border=\"1\" class=\"dataframe\">\n",
       "  <thead>\n",
       "    <tr style=\"text-align: right;\">\n",
       "      <th></th>\n",
       "      <th>Postcode</th>\n",
       "      <th>State</th>\n",
       "      <th>Fuel Type</th>\n",
       "      <th>Registrations as at 31 January 2021</th>\n",
       "      <th>Registrations as at 31 January 2022</th>\n",
       "      <th>Registrations as at 31 January 2023</th>\n",
       "    </tr>\n",
       "  </thead>\n",
       "  <tbody>\n",
       "    <tr>\n",
       "      <th>0</th>\n",
       "      <td>800</td>\n",
       "      <td>NT</td>\n",
       "      <td>Internal Combustion Engine</td>\n",
       "      <td>6780</td>\n",
       "      <td>7318</td>\n",
       "      <td>7089</td>\n",
       "    </tr>\n",
       "    <tr>\n",
       "      <th>1</th>\n",
       "      <td>800</td>\n",
       "      <td>NT</td>\n",
       "      <td>Battery Electric Vehicle</td>\n",
       "      <td>3</td>\n",
       "      <td>3</td>\n",
       "      <td>12</td>\n",
       "    </tr>\n",
       "    <tr>\n",
       "      <th>2</th>\n",
       "      <td>800</td>\n",
       "      <td>NT</td>\n",
       "      <td>Hydrogen Cell Vehicle</td>\n",
       "      <td>0</td>\n",
       "      <td>0</td>\n",
       "      <td>0</td>\n",
       "    </tr>\n",
       "    <tr>\n",
       "      <th>3</th>\n",
       "      <td>800</td>\n",
       "      <td>NT</td>\n",
       "      <td>Hybrid</td>\n",
       "      <td>131</td>\n",
       "      <td>411</td>\n",
       "      <td>402</td>\n",
       "    </tr>\n",
       "    <tr>\n",
       "      <th>4</th>\n",
       "      <td>810</td>\n",
       "      <td>NT</td>\n",
       "      <td>Internal Combustion Engine</td>\n",
       "      <td>21870</td>\n",
       "      <td>22092</td>\n",
       "      <td>21890</td>\n",
       "    </tr>\n",
       "  </tbody>\n",
       "</table>\n",
       "</div>"
      ],
      "text/plain": [
       "   Postcode State                   Fuel Type  \\\n",
       "0       800    NT  Internal Combustion Engine   \n",
       "1       800    NT    Battery Electric Vehicle   \n",
       "2       800    NT       Hydrogen Cell Vehicle   \n",
       "3       800    NT                      Hybrid   \n",
       "4       810    NT  Internal Combustion Engine   \n",
       "\n",
       "   Registrations as at 31 January 2021  Registrations as at 31 January 2022  \\\n",
       "0                                 6780                                 7318   \n",
       "1                                    3                                    3   \n",
       "2                                    0                                    0   \n",
       "3                                  131                                  411   \n",
       "4                                21870                                22092   \n",
       "\n",
       "   Registrations as at 31 January 2023  \n",
       "0                                 7089  \n",
       "1                                   12  \n",
       "2                                    0  \n",
       "3                                  402  \n",
       "4                                21890  "
      ]
     },
     "execution_count": 12,
     "metadata": {},
     "output_type": "execute_result"
    }
   ],
   "source": [
    "read0.head()"
   ]
  },
  {
   "cell_type": "code",
   "execution_count": 13,
   "id": "d67fbc20",
   "metadata": {},
   "outputs": [
    {
     "data": {
      "text/plain": [
       "Postcode                               10548\n",
       "State                                  10548\n",
       "Fuel Type                              10548\n",
       "Registrations as at 31 January 2021    10548\n",
       "Registrations as at 31 January 2022    10548\n",
       "Registrations as at 31 January 2023    10548\n",
       "dtype: int64"
      ]
     },
     "execution_count": 13,
     "metadata": {},
     "output_type": "execute_result"
    }
   ],
   "source": [
    "read0.count()"
   ]
  },
  {
   "cell_type": "code",
   "execution_count": 14,
   "id": "f29466f4",
   "metadata": {},
   "outputs": [
    {
     "data": {
      "text/plain": [
       "Postcode                                int64\n",
       "State                                  object\n",
       "Fuel Type                              object\n",
       "Registrations as at 31 January 2021     int64\n",
       "Registrations as at 31 January 2022     int64\n",
       "Registrations as at 31 January 2023     int64\n",
       "dtype: object"
      ]
     },
     "execution_count": 14,
     "metadata": {},
     "output_type": "execute_result"
    }
   ],
   "source": [
    "read0.dtypes\n"
   ]
  },
  {
   "cell_type": "code",
   "execution_count": 15,
   "id": "bc22a7ae",
   "metadata": {},
   "outputs": [
    {
     "data": {
      "text/plain": [
       "Internal Combustion Engine    2637\n",
       "Battery Electric Vehicle      2637\n",
       "Hydrogen Cell Vehicle         2637\n",
       "Hybrid                        2637\n",
       "Name: Fuel Type, dtype: int64"
      ]
     },
     "execution_count": 15,
     "metadata": {},
     "output_type": "execute_result"
    }
   ],
   "source": [
    "read0[\"Fuel Type\"].value_counts()"
   ]
  },
  {
   "cell_type": "code",
   "execution_count": 16,
   "id": "16320533",
   "metadata": {},
   "outputs": [
    {
     "data": {
      "text/plain": [
       "VIC    2776\n",
       "NSW    2440\n",
       "QLD    1732\n",
       "WA     1536\n",
       "SA     1364\n",
       "TAS     460\n",
       "NT      136\n",
       "ACT     104\n",
       "Name: State, dtype: int64"
      ]
     },
     "execution_count": 16,
     "metadata": {},
     "output_type": "execute_result"
    }
   ],
   "source": [
    "read0[\"State\"].value_counts()"
   ]
  },
  {
   "cell_type": "code",
   "execution_count": 17,
   "id": "b8e7f74d",
   "metadata": {},
   "outputs": [],
   "source": [
    "read0[\"Fuel Type\"] = read0[\"Fuel Type\"].replace({\"BEV\":\"Battery Electric Vehicle\",\n",
    "                       'ICE':\"Internal Combustion Engine\",\n",
    "                       'HFCEV':'Hydrogen Cell Vehicle',\n",
    "                       'Hybrid/PHEV':'Hybrid'})"
   ]
  },
  {
   "cell_type": "code",
   "execution_count": 18,
   "id": "8141d7f0",
   "metadata": {},
   "outputs": [
    {
     "data": {
      "text/html": [
       "<div>\n",
       "<style scoped>\n",
       "    .dataframe tbody tr th:only-of-type {\n",
       "        vertical-align: middle;\n",
       "    }\n",
       "\n",
       "    .dataframe tbody tr th {\n",
       "        vertical-align: top;\n",
       "    }\n",
       "\n",
       "    .dataframe thead th {\n",
       "        text-align: right;\n",
       "    }\n",
       "</style>\n",
       "<table border=\"1\" class=\"dataframe\">\n",
       "  <thead>\n",
       "    <tr style=\"text-align: right;\">\n",
       "      <th></th>\n",
       "      <th>Postcode</th>\n",
       "      <th>State</th>\n",
       "      <th>Fuel Type</th>\n",
       "      <th>Registrations as at 31 January 2021</th>\n",
       "      <th>Registrations as at 31 January 2022</th>\n",
       "      <th>Registrations as at 31 January 2023</th>\n",
       "    </tr>\n",
       "  </thead>\n",
       "  <tbody>\n",
       "    <tr>\n",
       "      <th>0</th>\n",
       "      <td>800</td>\n",
       "      <td>NT</td>\n",
       "      <td>Internal Combustion Engine</td>\n",
       "      <td>6780</td>\n",
       "      <td>7318</td>\n",
       "      <td>7089</td>\n",
       "    </tr>\n",
       "    <tr>\n",
       "      <th>1</th>\n",
       "      <td>800</td>\n",
       "      <td>NT</td>\n",
       "      <td>Battery Electric Vehicle</td>\n",
       "      <td>3</td>\n",
       "      <td>3</td>\n",
       "      <td>12</td>\n",
       "    </tr>\n",
       "    <tr>\n",
       "      <th>2</th>\n",
       "      <td>800</td>\n",
       "      <td>NT</td>\n",
       "      <td>Hydrogen Cell Vehicle</td>\n",
       "      <td>0</td>\n",
       "      <td>0</td>\n",
       "      <td>0</td>\n",
       "    </tr>\n",
       "    <tr>\n",
       "      <th>3</th>\n",
       "      <td>800</td>\n",
       "      <td>NT</td>\n",
       "      <td>Hybrid</td>\n",
       "      <td>131</td>\n",
       "      <td>411</td>\n",
       "      <td>402</td>\n",
       "    </tr>\n",
       "    <tr>\n",
       "      <th>4</th>\n",
       "      <td>810</td>\n",
       "      <td>NT</td>\n",
       "      <td>Internal Combustion Engine</td>\n",
       "      <td>21870</td>\n",
       "      <td>22092</td>\n",
       "      <td>21890</td>\n",
       "    </tr>\n",
       "  </tbody>\n",
       "</table>\n",
       "</div>"
      ],
      "text/plain": [
       "   Postcode State                   Fuel Type  \\\n",
       "0       800    NT  Internal Combustion Engine   \n",
       "1       800    NT    Battery Electric Vehicle   \n",
       "2       800    NT       Hydrogen Cell Vehicle   \n",
       "3       800    NT                      Hybrid   \n",
       "4       810    NT  Internal Combustion Engine   \n",
       "\n",
       "   Registrations as at 31 January 2021  Registrations as at 31 January 2022  \\\n",
       "0                                 6780                                 7318   \n",
       "1                                    3                                    3   \n",
       "2                                    0                                    0   \n",
       "3                                  131                                  411   \n",
       "4                                21870                                22092   \n",
       "\n",
       "   Registrations as at 31 January 2023  \n",
       "0                                 7089  \n",
       "1                                   12  \n",
       "2                                    0  \n",
       "3                                  402  \n",
       "4                                21890  "
      ]
     },
     "execution_count": 18,
     "metadata": {},
     "output_type": "execute_result"
    }
   ],
   "source": [
    "read0.head()"
   ]
  },
  {
   "cell_type": "code",
   "execution_count": 19,
   "id": "eaf73df0",
   "metadata": {},
   "outputs": [
    {
     "data": {
      "text/plain": [
       "<pandas.core.groupby.generic.DataFrameGroupBy object at 0x7fa538107880>"
      ]
     },
     "execution_count": 19,
     "metadata": {},
     "output_type": "execute_result"
    }
   ],
   "source": [
    "read1= read0.groupby([\"Postcode\",\"Fuel Type\"])\n",
    "read1"
   ]
  },
  {
   "cell_type": "code",
   "execution_count": 20,
   "id": "2eb6d569",
   "metadata": {},
   "outputs": [
    {
     "data": {
      "text/plain": [
       "0        False\n",
       "1        False\n",
       "2        False\n",
       "3        False\n",
       "4        False\n",
       "         ...  \n",
       "10543    False\n",
       "10544    False\n",
       "10545    False\n",
       "10546    False\n",
       "10547    False\n",
       "Length: 10548, dtype: bool"
      ]
     },
     "execution_count": 20,
     "metadata": {},
     "output_type": "execute_result"
    }
   ],
   "source": [
    "read0.duplicated()"
   ]
  },
  {
   "cell_type": "code",
   "execution_count": null,
   "id": "b11c536e",
   "metadata": {},
   "outputs": [],
   "source": []
  }
 ],
 "metadata": {
  "kernelspec": {
   "display_name": "Python 3 (ipykernel)",
   "language": "python",
   "name": "python3"
  },
  "language_info": {
   "codemirror_mode": {
    "name": "ipython",
    "version": 3
   },
   "file_extension": ".py",
   "mimetype": "text/x-python",
   "name": "python",
   "nbconvert_exporter": "python",
   "pygments_lexer": "ipython3",
   "version": "3.9.7"
  }
 },
 "nbformat": 4,
 "nbformat_minor": 5
}
