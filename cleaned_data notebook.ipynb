{
 "cells": [
  {
   "cell_type": "code",
   "execution_count": null,
   "id": "ecc7817b",
   "metadata": {},
   "outputs": [],
   "source": [
    "from pathlib import Path\n",
    "import pandas as pd"
   ]
  },
  {
   "cell_type": "code",
   "execution_count": null,
   "id": "d1654aea",
   "metadata": {},
   "outputs": [],
   "source": [
    "path = Path(\"cleaned_post_code_registration.csv\")"
   ]
  },
  {
   "cell_type": "code",
   "execution_count": null,
   "id": "7a248ec5",
   "metadata": {},
   "outputs": [],
   "source": [
    "read0 = pd.read_csv(path)"
   ]
  },
  {
   "cell_type": "code",
   "execution_count": null,
   "id": "f2cd3eec",
   "metadata": {},
   "outputs": [],
   "source": [
    "read0.head()"
   ]
  },
  {
   "cell_type": "code",
   "execution_count": null,
   "id": "d67fbc20",
   "metadata": {},
   "outputs": [],
   "source": [
    "read0.count()"
   ]
  },
  {
   "cell_type": "code",
   "execution_count": null,
   "id": "f29466f4",
   "metadata": {},
   "outputs": [],
   "source": [
    "read0.dtypes\n"
   ]
  },
  {
   "cell_type": "code",
   "execution_count": null,
   "id": "bc22a7ae",
   "metadata": {},
   "outputs": [],
   "source": [
    "read0[\"Fuel Type\"].value_counts()"
   ]
  },
  {
   "cell_type": "code",
   "execution_count": null,
   "id": "16320533",
   "metadata": {},
   "outputs": [],
   "source": [
    "read0[\"State\"].value_counts()"
   ]
  },
  {
   "cell_type": "code",
   "execution_count": null,
   "id": "b8e7f74d",
   "metadata": {},
   "outputs": [],
   "source": [
    "read0[\"Fuel Type\"] = read0[\"Fuel Type\"].replace({\"BEV\":\"Battery Electric Vehicle\",\n",
    "                       'ICE':\"Internal Combustion Engine\",\n",
    "                       'HFCEV':'Hydrogen Cell Vehicle',\n",
    "                       'Hybrid/PHEV':'Hybrid'})"
   ]
  },
  {
   "cell_type": "code",
   "execution_count": null,
   "id": "8141d7f0",
   "metadata": {},
   "outputs": [],
   "source": [
    "read0.head()"
   ]
  },
  {
   "cell_type": "code",
   "execution_count": null,
   "id": "eaf73df0",
   "metadata": {},
   "outputs": [],
   "source": [
    "read1= read0.groupby([\"Postcode\",\"Fuel Type\"])\n",
    "read1"
   ]
  },
  {
   "cell_type": "code",
   "execution_count": null,
   "id": "2eb6d569",
   "metadata": {},
   "outputs": [],
   "source": [
    "read0.duplicated()"
   ]
  },
  {
   "cell_type": "code",
   "execution_count": null,
   "id": "b11c536e",
   "metadata": {},
   "outputs": [],
   "source": []
  }
 ],
 "metadata": {
  "kernelspec": {
   "display_name": "Python 3 (ipykernel)",
   "language": "python",
   "name": "python3"
  },
  "language_info": {
   "codemirror_mode": {
    "name": "ipython",
    "version": 3
   },
   "file_extension": ".py",
   "mimetype": "text/x-python",
   "name": "python",
   "nbconvert_exporter": "python",
   "pygments_lexer": "ipython3",
   "version": "3.10.13"
  }
 },
 "nbformat": 4,
 "nbformat_minor": 5
}
