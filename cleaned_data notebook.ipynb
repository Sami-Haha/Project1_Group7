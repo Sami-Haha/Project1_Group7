{
 "cells": [
  {
   "cell_type": "code",
   "execution_count": null,
   "id": "ecc7817b",
   "metadata": {},
   "outputs": [],
   "source": [
    "from pathlib import Path\n",
    "import pandas as pd\n",
    "import matplotlib.pyplot as plt\n",
    "import hvplot.pandas\n",
    "\n",
    "import warnings\n",
    "warnings.filterwarnings(\"ignore\")"
   ]
  },
  {
   "cell_type": "code",
   "execution_count": null,
   "id": "d1654aea",
   "metadata": {},
   "outputs": [],
   "source": [
    "path = Path(\"Resources/cleaned_post_code_registration.csv\")"
   ]
  },
  {
   "cell_type": "code",
   "execution_count": null,
   "id": "7a248ec5",
   "metadata": {},
   "outputs": [],
   "source": [
    "read0 = pd.read_csv(path)"
   ]
  },
  {
   "cell_type": "code",
   "execution_count": null,
   "id": "f2cd3eec",
   "metadata": {},
   "outputs": [],
   "source": [
    "read0.head()"
   ]
  },
  {
   "cell_type": "code",
   "execution_count": null,
   "id": "d67fbc20",
   "metadata": {},
   "outputs": [],
   "source": [
    "read0.count()"
   ]
  },
  {
   "cell_type": "code",
   "execution_count": null,
   "id": "f29466f4",
   "metadata": {},
   "outputs": [],
   "source": [
    "read0.dtypes\n"
   ]
  },
  {
   "cell_type": "code",
   "execution_count": null,
   "id": "bc22a7ae",
   "metadata": {},
   "outputs": [],
   "source": [
    "read0[\"Fuel Type\"].value_counts()"
   ]
  },
  {
   "cell_type": "code",
   "execution_count": null,
   "id": "16320533",
   "metadata": {},
   "outputs": [],
   "source": [
    "read0[\"State\"].value_counts()"
   ]
  },
  {
   "cell_type": "code",
   "execution_count": null,
   "id": "b8e7f74d",
   "metadata": {},
   "outputs": [],
   "source": [
    "read0[\"Fuel Type\"] = read0[\"Fuel Type\"].replace({\"BEV\":\"Battery Electric Vehicle\",\n",
    "                       'ICE':\"Internal Combustion Engine\",\n",
    "                       'HFCEV':'Hydrogen Cell Vehicle',\n",
    "                       'Hybrid/PHEV':'Hybrid'})"
   ]
  },
  {
   "cell_type": "code",
   "execution_count": null,
   "id": "8141d7f0",
   "metadata": {},
   "outputs": [],
   "source": [
    "read0.head()"
   ]
  },
  {
   "cell_type": "code",
   "execution_count": null,
   "id": "eaf73df0",
   "metadata": {},
   "outputs": [],
   "source": [
    "read1= read0.groupby([\"Postcode\",\"Fuel Type\"])\n",
    "read1"
   ]
  },
  {
   "cell_type": "code",
   "execution_count": null,
   "id": "2eb6d569",
   "metadata": {},
   "outputs": [],
   "source": [
    "read0.duplicated()"
   ]
  },
  {
   "cell_type": "code",
   "execution_count": null,
   "id": "b11c536e",
   "metadata": {},
   "outputs": [],
   "source": [
    "#Total registrations for each fuel type\n",
    "types= read0.groupby(\"Fuel Type\").sum()\n",
    "types= types.drop(['Postcode','State'],axis=1)\n",
    "types"
   ]
  },
  {
   "cell_type": "code",
   "execution_count": null,
   "id": "ab9f17cd-c37b-4768-9103-fb736c16885e",
   "metadata": {},
   "outputs": [],
   "source": [
    "#EV & Hybrid registration trends combined\n",
    "\n",
    "BEV_data= read0.loc[(read0[\"Fuel Type\"]==\"Battery Electric Vehicle\")|(read0[\"Fuel Type\"]==\"Hybrid\"),:]\n",
    "\n",
    "first_count= BEV_data[\"Registrations as at 31 January 2021\"].sum()\n",
    "second_count= BEV_data[\"Registrations as at 31 January 2022\"].sum()\n",
    "third_count= BEV_data[\"Registrations as at 31 January 2023\"].sum()\n",
    "\n",
    "Total_reg= pd.DataFrame({\"2021\":[first_count],\"2022\":second_count,\"2023\":third_count}).T\n",
    "Total_reg.plot(marker=\"o\", title= \"EV ownership trend 2021-23\", grid=True, legend=False)\n",
    "plt.xlabel(\"Years\")\n",
    "plt.xticks(rotation= 0)\n",
    "plt.ylabel(\"No. of Registrations\")\n",
    "plt.savefig(\"Resources/BEV_ownership.png\")\n",
    "plt.show()"
   ]
  },
  {
   "cell_type": "code",
   "execution_count": null,
   "id": "0b812b8e-e094-439d-a0fa-e2f5d190ddff",
   "metadata": {},
   "outputs": [],
   "source": [
    "#Comparison of ICE & EV by percentage\n",
    "\n",
    "firstyear_total= types[\"Registrations as at 31 January 2021\"].sum()\n",
    "secondyear_total= types[\"Registrations as at 31 January 2022\"].sum()\n",
    "thirdyear_total= types[\"Registrations as at 31 January 2023\"].sum()\n",
    "\n",
    "types[\"2021\"]=types[\"Registrations as at 31 January 2021\"]/firstyear_total*100\n",
    "types[\"2022\"]=types[\"Registrations as at 31 January 2022\"]/secondyear_total*100\n",
    "types[\"2023\"]=types[\"Registrations as at 31 January 2023\"]/thirdyear_total*100\n",
    "\n",
    "types_new= types.drop(['Registrations as at 31 January 2021','Registrations as at 31 January 2022',\n",
    "                       'Registrations as at 31 January 2023'],axis=1)\n",
    "\n",
    "types_new= types_new[[\"2021\",\"2022\",\"2023\"]].T\n",
    "types_new[\"Hybrid & BEV\"]= types_new[\"Hybrid\"]+types_new[\"Battery Electric Vehicle\"]\n",
    "\n",
    "comparison_df= types_new[[\"Internal Combustion Engine\",\"Hybrid & BEV\"]]\n",
    "comparison_df.plot(marker=\"o\", title= \"EV & ICE ownership trend 2021-23\", grid=True, legend=False)\n",
    "plt.xlabel(\"Years\")\n",
    "plt.xticks(rotation= 0)\n",
    "plt.ylabel(\"No. of Registrations\")\n",
    "plt.savefig(\"Resources/Ownership trends comparison\")\n",
    "\n",
    "plt.show()\n",
    "comparison_df"
   ]
  },
  {
   "cell_type": "code",
   "execution_count": null,
   "id": "2224d4d0-f4e6-4adf-9a6e-3a035b93c87d",
   "metadata": {},
   "outputs": [],
   "source": [
    "#EV & combustion engine comparison for 2023\n",
    "years_df= comparison_df[[\"Internal Combustion Engine\",\"Hybrid & BEV\"]].T\n",
    "types_2023 = years_df[\"2023\"]\n",
    "plt.title(\"EV & Combustion engine ownership 2023\")\n",
    "labels= [\"Combustion\", \"EV\"]\n",
    "plt.pie(types_2023, explode=(0,0.4), labels=labels, colors=(\"lightskyblue\",\"green\"), autopct=\"%1.1f%%\",\n",
    "          startangle=360)\n",
    "plt.axis(\"equal\")\n",
    "plt.tight_layout()\n",
    "plt.savefig(\"Resources/Ownership comparison 2023\")\n",
    "\n",
    "plt.show()"
   ]
  },
  {
   "cell_type": "code",
   "execution_count": null,
   "id": "28746d38-a474-4338-83ca-b6ed9675b8f7",
   "metadata": {},
   "outputs": [],
   "source": [
    "#EV & combustion engine comparison for 2021\n",
    "types_2023 = years_df[\"2021\"]\n",
    "plt.title(\"EV & Combustion engine ownership 2021\")\n",
    "labels= [\"Combustion \", \"EV\"]\n",
    "plt.pie(types_2023, explode=(0,0.4), labels=labels, colors=(\"lightskyblue\",\"green\"), autopct=\"%1.1f%%\",\n",
    "          startangle=360)\n",
    "plt.axis(\"equal\")\n",
    "plt.savefig(\"Resources/Ownership comparison 2021\")\n",
    "\n",
    "plt.show()"
   ]
  },
  {
   "cell_type": "code",
   "execution_count": null,
   "id": "70816777-697b-4319-a4c5-0bf6fa630bc7",
   "metadata": {},
   "outputs": [],
   "source": [
    "#State BEV registrations comparison \n",
    "\n",
    "State_BEV= BEV_data.groupby(\"State\").sum()\n",
    "State_totals= State_BEV[[\"Registrations as at 31 January 2021\",\"Registrations as at 31 January 2022\",\n",
    "                         \"Registrations as at 31 January 2023\"]]\n",
    "renamed= State_totals.rename(columns={\"Registrations as at 31 January 2021\":\"2021\",\n",
    "                           \"Registrations as at 31 January 2022\":\"2022\",\n",
    "                           \"Registrations as at 31 January 2023\":\"2023\"})\n",
    "\n",
    "renamed.plot(kind= \"bar\", title=\"BEV registrations by States 2021-23\")\n",
    "plt.xlabel(\"States\")\n",
    "plt.xticks(rotation= 45)\n",
    "plt.ylabel(\"No. of BEV Registrations\")\n",
    "plt.tight_layout()\n",
    "plt.savefig(\"Resources/States_comparison\")\n",
    "plt.show()\n",
    "\n",
    "renamed"
   ]
  },
  {
   "cell_type": "code",
   "execution_count": null,
   "id": "6f303cf6-9ecb-4a03-9776-8786222467c2",
   "metadata": {},
   "outputs": [],
   "source": [
    "#plotting postcodes with high EV ownership\n",
    "postcode= pd.read_csv(\"australian_postcodes.csv\")\n",
    "postcodes_df= postcode.rename(columns={\"postcode\":\"Postcode\"})\n",
    "postcodes_df[\"Postcode\"]= postcodes_df[\"Postcode\"].drop_duplicates()\n",
    "\n",
    "merged= pd.merge(BEV_data,postcodes_df, on=\"Postcode\", how=\"inner\")\n",
    "\n",
    "merged_short= merged[[\"Postcode\",\"Lat_precise\",\"Long_precise\",\"Registrations as at 31 January 2023\"]]\n",
    "BEV_postcodes = merged_short.sort_values(by=\"Registrations as at 31 January 2023\", ascending=False)\n",
    "top_postcodes= BEV_postcodes.loc[BEV_postcodes[\"Registrations as at 31 January 2023\"]>1000]\n",
    "\n",
    "BEV_plot = top_postcodes.hvplot.points(\"Long_precise\",\"Lat_precise\",\n",
    "    geo = True, color=\"Postcode\", size= \"Registrations as at 31 January 2023\",\n",
    "    tiles = \"OSM\", frame_width = 700, frame_height = 500, scale= 0.5, colorbar=False)\n",
    "\n",
    "BEV_plot"
   ]
  },
  {
   "cell_type": "code",
   "execution_count": null,
   "id": "96c2a742-bbcb-443c-a35d-0ddf3a091da5",
   "metadata": {},
   "outputs": [],
   "source": []
  }
 ],
 "metadata": {
  "kernelspec": {
   "display_name": "Python 3 (ipykernel)",
   "language": "python",
   "name": "python3"
  },
  "language_info": {
   "codemirror_mode": {
    "name": "ipython",
    "version": 3
   },
   "file_extension": ".py",
   "mimetype": "text/x-python",
   "name": "python",
   "nbconvert_exporter": "python",
   "pygments_lexer": "ipython3",
   "version": "3.11.5"
  }
 },
 "nbformat": 4,
 "nbformat_minor": 5
}
