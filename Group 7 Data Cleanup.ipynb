{
 "cells": [
  {
   "cell_type": "code",
   "execution_count": null,
   "id": "7be7a23c",
   "metadata": {},
   "outputs": [],
   "source": [
    "from pathlib import Path\n",
    "import pandas as pd\n",
    "import numpy as np"
   ]
  },
  {
   "cell_type": "markdown",
   "id": "6f285ff3",
   "metadata": {},
   "source": [
    "# Vehicle registration data cleaning"
   ]
  },
  {
   "cell_type": "code",
   "execution_count": null,
   "id": "390af79c",
   "metadata": {},
   "outputs": [],
   "source": [
    "#This was performed in Excel.\n",
    "# cleaned file is called 'Cleaned_Postcode-Registrations-Data-1 (1).xlsx'\n"
   ]
  },
  {
   "cell_type": "markdown",
   "id": "3ecb086b",
   "metadata": {},
   "source": [
    "# Census Data cleaning"
   ]
  },
  {
   "cell_type": "markdown",
   "id": "90ab4a6b",
   "metadata": {},
   "source": [
    "First clean - remove unnecessary columns, remove the extra data before the ':' in each column and rename the columns"
   ]
  },
  {
   "cell_type": "code",
   "execution_count": null,
   "id": "4c3160e8",
   "metadata": {},
   "outputs": [],
   "source": [
    "#define the path for reading files\n",
    "ABS_data = Path('Resources/A1_copy.csv')\n",
    "#read in csv to datafile\n",
    "obs_df = pd.read_csv(ABS_data)\n",
    "obs_df.head()"
   ]
  },
  {
   "cell_type": "code",
   "execution_count": null,
   "id": "7c59876c",
   "metadata": {},
   "outputs": [],
   "source": [
    "#remove the extra columns using column indices\n",
    "columns_to_keep_indices = [2,3,4,6,8]\n",
    "obs_df = obs_df.iloc[:, columns_to_keep_indices]\n",
    "#remove extra values in columns using indices, note only first 5 columns need cleaning\n",
    "columns_to_clean = obs_df.columns[:4]\n",
    "# Apply the split operation to the specified columns\n",
    "obs_df[columns_to_clean] = obs_df[columns_to_clean].apply(lambda x: x.apply(lambda y: str(y).split(':')[1]))\n",
    "# Apply new column names\n",
    "Col_names = ['Total personal income (weekly)', 'Age', 'Postcode', 'State', 'Population']\n",
    "obs_df.columns = Col_names\n",
    "\n",
    "# Save the modified DataFrame back to a new CSV file \n",
    "obs_df.to_csv('Resources/Census_clean.csv', index=False)\n",
    "obs_df.head()"
   ]
  },
  {
   "cell_type": "markdown",
   "id": "1a5370e6",
   "metadata": {},
   "source": [
    "Adding mid point to Census Age and Income ranges"
   ]
  },
  {
   "cell_type": "code",
   "execution_count": null,
   "id": "9e49ca36",
   "metadata": {
    "scrolled": true
   },
   "outputs": [],
   "source": [
    "#create a file that has Midpoint Age and Midpoint income\n",
    "\n",
    "#Define the function to convert the Income ranges to midpoint\n",
    "def convert_range_to_midpoint(value):\n",
    "    value = value.replace('$', '').replace(',', '')  # Remove dollar signs and commas\n",
    "    if 'Total' in value or 'Not stated' in value or 'Negative/Nil income' in value:\n",
    "        return 0  # Set a default value for 'Total', 'Not stated', or 'Negative/Nil income'\n",
    "    elif 'or more' in value:\n",
    "        return '3500+'  # Set a special value for '3500 or more'\n",
    "    elif '-' in value:\n",
    "        return sum(map(int, value.split('-'))) / 2\n",
    "    else:\n",
    "        return int(value)\n",
    "#apply function to Total Personal Income and create a new column\n",
    "obs_df['Income_Midpoint'] = obs_df['Total personal income (weekly)'].apply(convert_range_to_midpoint)\n",
    "\n",
    "obs_df.head()\n",
    " "
   ]
  },
  {
   "cell_type": "code",
   "execution_count": null,
   "id": "272a69cd",
   "metadata": {},
   "outputs": [],
   "source": [
    "# Define the function to convert age to midpoint\n",
    "def convert_age_to_midpoint(value):\n",
    "    if 'Total' in value:\n",
    "        return None  # Ignore 'Total'\n",
    "    \n",
    "    if 'years' in value:\n",
    "        value = value.replace(' years', '')\n",
    "        if '-' in value:\n",
    "            return sum(map(int, value.split('-'))) / 2  # Midpoint for ranges like '55-64'\n",
    "        else:\n",
    "            return '85+'  # Special value for '85 years and over'\n",
    "    \n",
    "    return 0  # Default value\n",
    "\n",
    "# Convert 'Age' column and create a new column 'Age_Midpoint'\n",
    "obs_df['Age_Midpoint'] = obs_df['Age'].apply(convert_age_to_midpoint)\n",
    "# Remove the rows where Age Midpoint is None\n",
    "obs_df = obs_df.dropna(subset=['Age_Midpoint'])\n",
    "\n",
    "obs_df.head()\n"
   ]
  },
  {
   "cell_type": "code",
   "execution_count": null,
   "id": "d76c296e",
   "metadata": {},
   "outputs": [],
   "source": [
    "#save this new file\n",
    "obs_df.to_csv('Resources/Census_clean_Midpoints_added.csv', index=False)"
   ]
  },
  {
   "cell_type": "markdown",
   "id": "b0635e56",
   "metadata": {},
   "source": [
    "## Creating the Top 10 Fuel type by Registration"
   ]
  },
  {
   "cell_type": "markdown",
   "id": "b79e7132",
   "metadata": {},
   "source": [
    "Grouping and finding the top 10 for each year"
   ]
  },
  {
   "cell_type": "code",
   "execution_count": null,
   "id": "e2f0688e",
   "metadata": {},
   "outputs": [],
   "source": [
    "# Load the Excel file\n",
    "file_path = 'Resources/Cleaned_Postcode-Registrations-Data-1 (1).xlsx'\n",
    "data = pd.read_excel(file_path)\n",
    "# Display the first few rows of the dataframe\n",
    "data.head()"
   ]
  },
  {
   "cell_type": "code",
   "execution_count": null,
   "id": "a2a3d391",
   "metadata": {},
   "outputs": [],
   "source": [
    "# Grouping and finding top 10 for each year\n",
    "\n",
    "# For the year 2021\n",
    "top_2021 = data.groupby(['Fuel Type', 'Postcode','State'])['Registrations as at 31 January 2021'].sum().reset_index()\n",
    "top_2021 = top_2021.sort_values(by='Registrations as at 31 January 2021', ascending=False).groupby('Fuel Type').head(10)\n",
    "# Exclude the HFCEV fuel type as it is all zeros\n",
    "top_2021 = top_2021[top_2021['Fuel Type'] != 'HFCEV']\n",
    "# For the year 2022\n",
    "top_2022 = data.groupby(['Fuel Type', 'Postcode','State'])['Registrations as at 31 January 2022'].sum().reset_index()\n",
    "top_2022 = top_2022.sort_values(by='Registrations as at 31 January 2022', ascending=False).groupby('Fuel Type').head(10)\n",
    "# Exclude the HFCEV fuel type as it is all zeros\n",
    "top_2022 = top_2022[top_2022['Fuel Type'] != 'HFCEV']\n",
    "# For the year 2023\n",
    "top_2023 = data.groupby(['Fuel Type', 'Postcode','State'])['Registrations as at 31 January 2023'].sum().reset_index()\n",
    "top_2023 = top_2023.sort_values(by='Registrations as at 31 January 2023', ascending=False).groupby('Fuel Type').head(10)\n",
    "# Exclude the HFCEV fuel type as it is all zeros\n",
    "top_2023 = top_2023[top_2023['Fuel Type'] != 'HFCEV']\n",
    "\n",
    "top_2021, top_2022, top_2023\n"
   ]
  },
  {
   "cell_type": "code",
   "execution_count": null,
   "id": "0a3e6bb7",
   "metadata": {},
   "outputs": [],
   "source": [
    "# Adding a year column to each DataFrame\n",
    "top_2021['Year'] = 2021\n",
    "top_2022['Year'] = 2022\n",
    "top_2023['Year'] = 2023\n",
    "\n",
    "# Renaming the registration columns\n",
    "top_2021.rename(columns={'Registrations as at 31 January 2021': 'Registrations'}, inplace=True)\n",
    "top_2022.rename(columns={'Registrations as at 31 January 2022': 'Registrations'}, inplace=True)\n",
    "top_2023.rename(columns={'Registrations as at 31 January 2023': 'Registrations'}, inplace=True)\n",
    "\n",
    "# Concatenating the DataFrames\n",
    "combined_df = pd.concat([top_2021, top_2022, top_2023])"
   ]
  },
  {
   "cell_type": "code",
   "execution_count": null,
   "id": "4e4cbbcb",
   "metadata": {},
   "outputs": [],
   "source": [
    "#Save the file \n",
    "combined_df.to_csv('Resources/Top_10_for_all_years.csv', index=False)"
   ]
  },
  {
   "cell_type": "markdown",
   "id": "6a010bca",
   "metadata": {},
   "source": [
    "# Creating seperate files for each vehicle type"
   ]
  },
  {
   "cell_type": "code",
   "execution_count": null,
   "id": "4e713bb3",
   "metadata": {},
   "outputs": [],
   "source": [
    "#read in the datafile containing the fuel type and postcode\n",
    "top10_for2021_df = pd.read_csv('Resources/Cleaned_post_code_registration.csv')\n",
    "\n",
    "#remove the extra columns using column indices\n",
    "columns_to_keep_indices = [0,1,2,4]\n",
    "top10_for2021_df = top10_for2021_df.iloc[:, columns_to_keep_indices]\n",
    "\n",
    "#Sort the df based on number of registrations\n",
    "sorted_df = top10_for2021_df.sort_values(by= 'Registrations as at 31 January 2022', ascending=False)\n",
    "\n",
    "#Group by the fuel type\n",
    "grouped_df = sorted_df.groupby('Fuel Type')\n",
    "\n",
    "#Create a dictionary to store each fuel type\n",
    "fuel_type_ds = {}\n",
    "#for loop to get the top 10 and store in dictionary, also dropping Hydrogen Cell Vehicle.\n",
    "for fuel_type, group in grouped_df:\n",
    "    if fuel_type != 'Hydrogen Cell Vehicle':\n",
    "        fuel_type_ds[fuel_type] = group.head(10).reset_index(drop=True)\n"
   ]
  },
  {
   "cell_type": "code",
   "execution_count": null,
   "id": "84ec3b0b",
   "metadata": {},
   "outputs": [],
   "source": [
    "resource_path = Path('Resources')\n",
    "#read in the income data to merge with the above dictionary\n",
    "income_df = pd.read_csv('Resources/Census_clean_Midpoints_added.csv')\n",
    "\n",
    "#create an empty dictionary for the merge\n",
    "merged_ds = {}\n",
    "\n",
    "#for loop to merge the datasets\n",
    "for fuel_type, fuel_type_df in fuel_type_ds.items():\n",
    "    merged_df = pd.merge(fuel_type_df, income_df, on='Postcode', how ='left')\n",
    "    #filter rows to remove Population of 0\n",
    "    merged_df = merged_df[merged_df['Population'] !=0]\n",
    "    merged_ds[fuel_type]= merged_df\n",
    "    #Drop extra state column\n",
    "    merged_df = merged_df.drop('State_y', axis=1)\n",
    "    #rename remaining state column\n",
    "    merged_df.rename(columns={'State_x':'State'}, inplace=True)\n",
    "    #Save the output to a csv file for each fuel type\n",
    "    filename = resource_path / f'{fuel_type}_top10.csv'\n",
    "    merged_df.to_csv(filename, index=False)\n",
    "    #add print statement to show named files created\n",
    "    print(f'Saved {fuel_type} merge to {filename}')\n",
    "    \n",
    "\n"
   ]
  },
  {
   "cell_type": "code",
   "execution_count": null,
   "id": "f05bc176",
   "metadata": {},
   "outputs": [],
   "source": [
    "#read in the postcode to suburb file\n",
    "Suburb_df = pd.read_csv('Resources/australian_postcodes.csv')\n",
    "Suburb_df = Suburb_df.rename(columns={'postcode': 'Postcode'})\n",
    "Suburb_df['Postcode'] = Suburb_df['Postcode'].drop_duplicates()"
   ]
  },
  {
   "cell_type": "markdown",
   "id": "851db3fe",
   "metadata": {},
   "source": [
    "# Manipulate the data in the Battery Electric Vehicle file to produce age distribution and income distributions"
   ]
  },
  {
   "cell_type": "code",
   "execution_count": null,
   "id": "d480f70b",
   "metadata": {},
   "outputs": [],
   "source": [
    "#read in the top 10 file\n",
    "csv_file_path = 'Resources/Battery Electric Vehicle_top10.csv'\n",
    "BEV_df = pd.read_csv(csv_file_path)\n"
   ]
  },
  {
   "cell_type": "code",
   "execution_count": null,
   "id": "ca02bb6a",
   "metadata": {},
   "outputs": [],
   "source": [
    "# merge Surburb_df with BEV data\n",
    "merge_BEV = pd.merge(BEV_df, Suburb_df, on='Postcode', how='inner')\n",
    "columns_to_keep = ['Postcode', 'State', 'Fuel Type','Registrations as at 31 January 2022','Total personal income (weekly)', 'Age', 'Population', 'Income_Midpoint', 'Age_Midpoint', 'locality']\n",
    "final_merge = merge_BEV[columns_to_keep]\n",
    "#reorder the columns\n",
    "desired_order = ['Postcode', 'locality','State', 'Registrations as at 31 January 2022', 'Population', 'Total personal income (weekly)','Income_Midpoint', 'Age', 'Age_Midpoint','Fuel Type']\n",
    "# new df with reorder\n",
    "merge_df_reordered = final_merge[desired_order]\n",
    "\n",
    "merge_df_reordered\n",
    "#print(merge_BEV.columns)"
   ]
  },
  {
   "cell_type": "code",
   "execution_count": null,
   "id": "7bae44b6",
   "metadata": {},
   "outputs": [],
   "source": [
    "#Filter the rows where Income is 'Total'\n",
    "BEV_subset = merge_df_reordered[merge_df_reordered['Total personal income (weekly)'].str.contains('Total', case=False, na=False)]\n",
    "#Sort by registrations and then age group\n",
    "BEV_subset = BEV_subset.sort_values(by=['Registrations as at 31 January 2022', 'Age'], ascending=[False, True])\n",
    "\n",
    "subset_to_save = 'Resources/BEV_top10_total.csv'\n",
    "BEV_subset.to_csv(subset_to_save, index=False)\n",
    "BEV_subset"
   ]
  },
  {
   "cell_type": "markdown",
   "id": "ad5c4af7",
   "metadata": {},
   "source": [
    "# Manipulate the data in the Hybrid Vehicle file to produce age distribution and income distributions"
   ]
  },
  {
   "cell_type": "code",
   "execution_count": null,
   "id": "b35e04ad",
   "metadata": {},
   "outputs": [],
   "source": [
    "#read in the file\n",
    "csv_file_path = 'Resources/Hybrid_top10.csv'\n",
    "Hybrid_df = pd.read_csv(csv_file_path)\n",
    "Hybrid_df\n"
   ]
  },
  {
   "cell_type": "code",
   "execution_count": null,
   "id": "77beddba",
   "metadata": {},
   "outputs": [],
   "source": [
    "# merge Surburb_df with Hybrid data\n",
    "merge_Hybrid = pd.merge(Hybrid_df, Suburb_df, on='Postcode', how='inner')\n",
    "columns_to_keep = ['Postcode', 'State', 'Fuel Type','Registrations as at 31 January 2022','Total personal income (weekly)', 'Age', 'Population', 'Income_Midpoint', 'Age_Midpoint', 'locality']\n",
    "final_merge = merge_Hybrid[columns_to_keep]\n",
    "#reorder the columns\n",
    "desired_order = ['Postcode', 'locality','State', 'Registrations as at 31 January 2022', 'Population', 'Total personal income (weekly)','Income_Midpoint', 'Age', 'Age_Midpoint','Fuel Type']\n",
    "# new df with reorder\n",
    "merge_df_reordered = final_merge[desired_order]\n",
    "\n",
    "merge_df_reordered\n"
   ]
  },
  {
   "cell_type": "code",
   "execution_count": null,
   "id": "58239dfb",
   "metadata": {},
   "outputs": [],
   "source": [
    "#Filter the rows where Income is 'Total'\n",
    "Hybrid_subset = merge_df_reordered[merge_df_reordered['Total personal income (weekly)'].str.contains('Total', case=False, na=False)]\n",
    "#Sort by registrations and then age group\n",
    "Hybrid_subset = Hybrid_subset.sort_values(by=['Registrations as at 31 January 2022', 'Age'], ascending=[False, True])\n",
    "subset_to_save = 'Resources/Hybrid_top10_total.csv'\n",
    "Hybrid_subset.to_csv(subset_to_save, index=False)\n",
    "Hybrid_subset"
   ]
  },
  {
   "cell_type": "code",
   "execution_count": null,
   "id": "1ac92aed",
   "metadata": {},
   "outputs": [],
   "source": []
  },
  {
   "cell_type": "markdown",
   "id": "ad58e03e",
   "metadata": {},
   "source": [
    "Manipulate the data in the Internal Combustion Engine Vehicle file to produce age distribution and income distributions"
   ]
  },
  {
   "cell_type": "code",
   "execution_count": null,
   "id": "8a5c24be",
   "metadata": {},
   "outputs": [],
   "source": [
    "#read in the file\n",
    "csv_file_path = 'Resources/Internal Combustion Engine_top10.csv'\n",
    "ICE_df = pd.read_csv(csv_file_path)\n"
   ]
  },
  {
   "cell_type": "code",
   "execution_count": null,
   "id": "35b8e4bf",
   "metadata": {},
   "outputs": [],
   "source": [
    "# merge Surburb_df with ICE data\n",
    "merge_Hybrid = pd.merge(ICE_df, Suburb_df, on='Postcode', how='inner')\n",
    "columns_to_keep = ['Postcode', 'State', 'Fuel Type','Registrations as at 31 January 2022','Total personal income (weekly)', 'Age', 'Population', 'Income_Midpoint', 'Age_Midpoint', 'locality']\n",
    "final_merge = merge_Hybrid[columns_to_keep]\n",
    "#reorder the columns\n",
    "desired_order = ['Postcode', 'locality','State', 'Registrations as at 31 January 2022', 'Population', 'Total personal income (weekly)','Income_Midpoint', 'Age', 'Age_Midpoint','Fuel Type']\n",
    "# new df with reorder\n",
    "merge_df_reordered = final_merge[desired_order]\n",
    "\n",
    "merge_df_reordered\n"
   ]
  },
  {
   "cell_type": "code",
   "execution_count": null,
   "id": "dc565cbc",
   "metadata": {},
   "outputs": [],
   "source": [
    "#Filter the rows where Income is 'Total'\n",
    "ICE_subset = merge_df_reordered[merge_df_reordered['Total personal income (weekly)'].str.contains('Total', case=False, na=False)]\n",
    "#Sort by registrations and then age group\n",
    "ICE_subset = ICE_subset.sort_values(by=['Registrations as at 31 January 2022', 'Age'], ascending=[False, True])\n",
    "subset_to_save = 'Resources/ICE_top10_total.csv'\n",
    "ICE_subset.to_csv(subset_to_save, index=False)\n",
    "ICE_subset"
   ]
  },
  {
   "cell_type": "code",
   "execution_count": null,
   "id": "29d4bb40",
   "metadata": {},
   "outputs": [],
   "source": []
  },
  {
   "cell_type": "code",
   "execution_count": null,
   "id": "ed148839",
   "metadata": {},
   "outputs": [],
   "source": []
  },
  {
   "cell_type": "markdown",
   "id": "016ff583",
   "metadata": {},
   "source": [
    "## Creating the combined datafiles for plotting"
   ]
  },
  {
   "cell_type": "code",
   "execution_count": null,
   "id": "50721a9c",
   "metadata": {},
   "outputs": [],
   "source": [
    "# Load the new CSV file\n",
    "income_data_path = 'Resources/Census_clean_Midpoints_added.csv'\n",
    "income_data = pd.read_csv(income_data_path)\n",
    "\n",
    "# Display the first few rows of the income data\n",
    "income_data.head()"
   ]
  },
  {
   "cell_type": "code",
   "execution_count": null,
   "id": "270df1e1",
   "metadata": {
    "scrolled": true
   },
   "outputs": [],
   "source": [
    "# Merging the combined top registrations data with the income data based on postcode\n",
    "merged_data = pd.merge(combined_df, income_data, on='Postcode')\n",
    "\n",
    "# Displaying the first few rows of the merged DataFrame\n",
    "merged_data.head()\n"
   ]
  },
  {
   "cell_type": "code",
   "execution_count": null,
   "id": "6db8f5af",
   "metadata": {},
   "outputs": [],
   "source": [
    "#drop the extra state column\n",
    "cols_to_drop = ['Total personal income (weekly)', 'Age', 'State_y']\n",
    "\n",
    "merged_data = merged_data.drop(columns=cols_to_drop)\n",
    "\n",
    "merged_data.head()"
   ]
  },
  {
   "cell_type": "code",
   "execution_count": null,
   "id": "39cd07f4",
   "metadata": {},
   "outputs": [],
   "source": [
    "#rename the remaining columns\n",
    "cols_to_rename = {'State_x': 'State', 'Income_Midpoint': 'Income', 'Age_Midpoint': 'Age'}\n",
    "merged_data = merged_data.rename(columns=cols_to_rename)\n",
    "merged_data.head()"
   ]
  },
  {
   "cell_type": "code",
   "execution_count": null,
   "id": "46549f21",
   "metadata": {},
   "outputs": [],
   "source": [
    "#Save the new merged data ready for plotting manipulation\n",
    "merged_data.to_csv('Resources/Top10_for_all_years_with_Census_cleaned.csv', index=False)"
   ]
  },
  {
   "cell_type": "markdown",
   "id": "31efdab2",
   "metadata": {},
   "source": [
    "## Cleaning Median Age and Income Census Data"
   ]
  },
  {
   "cell_type": "code",
   "execution_count": null,
   "id": "a7b2557b",
   "metadata": {},
   "outputs": [],
   "source": [
    "#create a path to csv file\n",
    "path1 = Path('Resources/2021Census_G02_AUST_POA.csv')"
   ]
  },
  {
   "cell_type": "code",
   "execution_count": null,
   "id": "351ff0a0",
   "metadata": {},
   "outputs": [],
   "source": [
    "#read in csv\n",
    "census = pd.read_csv(path1)"
   ]
  },
  {
   "cell_type": "code",
   "execution_count": null,
   "id": "5e107d65",
   "metadata": {},
   "outputs": [],
   "source": [
    "#remove 'POA' in front of poastcode to isolate the number\n",
    "census['POA_CODE_2021'] = census['POA_CODE_2021'].str[3:]"
   ]
  },
  {
   "cell_type": "code",
   "execution_count": null,
   "id": "57010ae5",
   "metadata": {},
   "outputs": [],
   "source": [
    "#remove rows with values of '0'\n",
    "census = census.loc[~(census==0).any(axis=1)]"
   ]
  },
  {
   "cell_type": "code",
   "execution_count": null,
   "id": "1bfff3e7",
   "metadata": {},
   "outputs": [],
   "source": [
    "#copy postcode column (had issues with merging as had key error if just renamed)\n",
    "census['Postcode'] = census['POA_CODE_2021'].astype(int)\n",
    "census"
   ]
  },
  {
   "cell_type": "code",
   "execution_count": null,
   "id": "63272060",
   "metadata": {},
   "outputs": [],
   "source": [
    "#remove unwanted columns to leave postcodes, age and income\n",
    "census = census[['Postcode', 'Median_age_persons', 'Median_tot_prsnl_inc_weekly']]"
   ]
  },
  {
   "cell_type": "code",
   "execution_count": null,
   "id": "070248ea",
   "metadata": {},
   "outputs": [],
   "source": [
    "census.head()"
   ]
  },
  {
   "cell_type": "code",
   "execution_count": null,
   "id": "97a74f13",
   "metadata": {},
   "outputs": [],
   "source": [
    "census.to_csv('Resources/2021Census_median_income_and_age_cleaned.csv', index=False)"
   ]
  },
  {
   "cell_type": "code",
   "execution_count": null,
   "id": "4692b77d",
   "metadata": {},
   "outputs": [],
   "source": []
  }
 ],
 "metadata": {
  "kernelspec": {
   "display_name": "Python 3 (ipykernel)",
   "language": "python",
   "name": "python3"
  },
  "language_info": {
   "codemirror_mode": {
    "name": "ipython",
    "version": 3
   },
   "file_extension": ".py",
   "mimetype": "text/x-python",
   "name": "python",
   "nbconvert_exporter": "python",
   "pygments_lexer": "ipython3",
   "version": "3.10.13"
  }
 },
 "nbformat": 4,
 "nbformat_minor": 5
}
