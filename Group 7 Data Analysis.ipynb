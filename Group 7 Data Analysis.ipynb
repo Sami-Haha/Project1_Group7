{
 "cells": [
  {
   "cell_type": "code",
   "execution_count": null,
   "id": "3d1764d4",
   "metadata": {},
   "outputs": [],
   "source": [
    "from pathlib import Path\n",
    "import pandas as pd\n",
    "import matplotlib.pyplot as plt\n",
    "import numpy as np\n",
    "import seaborn as sns\n",
    "import hvplot.pandas\n"
   ]
  },
  {
   "cell_type": "markdown",
   "id": "4419ceb8",
   "metadata": {},
   "source": [
    "## Rhea coding for graphs"
   ]
  },
  {
   "cell_type": "code",
   "execution_count": null,
   "id": "bec7b749",
   "metadata": {},
   "outputs": [],
   "source": [
    "path = Path(\"Resources/cleaned_post_code_registration.csv\")\n",
    "read0 = pd.read_csv(path)"
   ]
  },
  {
   "cell_type": "code",
   "execution_count": null,
   "id": "ac60ce71",
   "metadata": {},
   "outputs": [],
   "source": [
    "#Total registrations for each fuel type\n",
    "types= read0.groupby(\"Fuel Type\").sum()\n",
    "types= types.drop(['Postcode','State'],axis=1)\n",
    "types"
   ]
  },
  {
   "cell_type": "code",
   "execution_count": null,
   "id": "79975ac9",
   "metadata": {},
   "outputs": [],
   "source": [
    "#EV & Hybrid registration trends combined\n",
    "\n",
    "BEV_data= read0.loc[(read0[\"Fuel Type\"]==\"Battery Electric Vehicle\")|(read0[\"Fuel Type\"]==\"Hybrid\"),:]\n",
    "\n",
    "first_count= BEV_data[\"Registrations as at 31 January 2021\"].sum()\n",
    "second_count= BEV_data[\"Registrations as at 31 January 2022\"].sum()\n",
    "third_count= BEV_data[\"Registrations as at 31 January 2023\"].sum()\n",
    "\n",
    "Total_reg= pd.DataFrame({\"2021\":[first_count],\"2022\":second_count,\"2023\":third_count}).T\n",
    "Total_reg.plot(marker=\"o\", title= \"EV ownership trend 2021-23\", grid=True, legend=False)\n",
    "plt.xlabel(\"Years\")\n",
    "plt.xticks(rotation= 0)\n",
    "plt.ylabel(\"No. of Registrations\")\n",
    "plt.savefig(\"Output/BEV_ownership.png\")\n",
    "plt.show()"
   ]
  },
  {
   "cell_type": "code",
   "execution_count": null,
   "id": "8cd84920",
   "metadata": {},
   "outputs": [],
   "source": [
    "#Comparison of ICE & EV by percentage\n",
    "\n",
    "firstyear_total= types[\"Registrations as at 31 January 2021\"].sum()\n",
    "secondyear_total= types[\"Registrations as at 31 January 2022\"].sum()\n",
    "thirdyear_total= types[\"Registrations as at 31 January 2023\"].sum()\n",
    "\n",
    "types[\"2021\"]=types[\"Registrations as at 31 January 2021\"]/firstyear_total*100\n",
    "types[\"2022\"]=types[\"Registrations as at 31 January 2022\"]/secondyear_total*100\n",
    "types[\"2023\"]=types[\"Registrations as at 31 January 2023\"]/thirdyear_total*100\n",
    "\n",
    "types_new= types.drop(['Registrations as at 31 January 2021','Registrations as at 31 January 2022',\n",
    "                       'Registrations as at 31 January 2023'],axis=1)\n",
    "\n",
    "types_new= types_new[[\"2021\",\"2022\",\"2023\"]].T\n",
    "types_new[\"Hybrid & BEV\"]= types_new[\"Hybrid\"]+types_new[\"Battery Electric Vehicle\"]\n",
    "\n",
    "comparison_df= types_new[[\"Internal Combustion Engine\",\"Hybrid & BEV\"]]\n",
    "comparison_df.plot(marker=\"o\", title= \"EV & ICE ownership trend 2021-23\", grid=True, legend=False)\n",
    "plt.xlabel(\"Years\")\n",
    "plt.xticks(rotation= 0)\n",
    "plt.ylabel(\"No. of Registrations\")\n",
    "plt.savefig(\"Output/Ownership trends comparison\")\n",
    "\n",
    "plt.show()\n",
    "comparison_df"
   ]
  },
  {
   "cell_type": "code",
   "execution_count": null,
   "id": "aa3b000e",
   "metadata": {},
   "outputs": [],
   "source": [
    "#EV & combustion engine comparison for 2023\n",
    "years_df= comparison_df[[\"Internal Combustion Engine\",\"Hybrid & BEV\"]].T\n",
    "types_2023 = years_df[\"2023\"]\n",
    "plt.title(\"EV & Combustion engine ownership 2023\")\n",
    "labels= [\"Combustion\", \"EV\"]\n",
    "plt.pie(types_2023, explode=(0,0.4), labels=labels, colors=(\"lightskyblue\",\"green\"), autopct=\"%1.1f%%\",\n",
    "          startangle=360)\n",
    "plt.axis(\"equal\")\n",
    "plt.tight_layout()\n",
    "plt.savefig(\"Output/Ownership comparison 2023\")\n",
    "\n",
    "plt.show()"
   ]
  },
  {
   "cell_type": "code",
   "execution_count": null,
   "id": "efb8c130",
   "metadata": {},
   "outputs": [],
   "source": [
    "#EV & combustion engine comparison for 2021\n",
    "types_2023 = years_df[\"2021\"]\n",
    "plt.title(\"EV & Combustion engine ownership 2021\")\n",
    "labels= [\"Combustion \", \"EV\"]\n",
    "plt.pie(types_2023, explode=(0,0.4), labels=labels, colors=(\"lightskyblue\",\"green\"), autopct=\"%1.1f%%\",\n",
    "          startangle=360)\n",
    "plt.axis(\"equal\")\n",
    "plt.savefig(\"Output/Ownership comparison 2021\")\n",
    "\n",
    "plt.show()"
   ]
  },
  {
   "cell_type": "code",
   "execution_count": null,
   "id": "0ce06bea",
   "metadata": {},
   "outputs": [],
   "source": [
    "#State BEV registrations comparison \n",
    "\n",
    "State_BEV= BEV_data.groupby(\"State\").sum()\n",
    "State_totals= State_BEV[[\"Registrations as at 31 January 2021\",\"Registrations as at 31 January 2022\",\n",
    "                         \"Registrations as at 31 January 2023\"]]\n",
    "renamed= State_totals.rename(columns={\"Registrations as at 31 January 2021\":\"2021\",\n",
    "                           \"Registrations as at 31 January 2022\":\"2022\",\n",
    "                           \"Registrations as at 31 January 2023\":\"2023\"})\n",
    "\n",
    "renamed.plot(kind= \"bar\", title=\"BEV registrations by States 2021-23\")\n",
    "plt.xlabel(\"States\")\n",
    "plt.xticks(rotation= 45)\n",
    "plt.ylabel(\"No. of BEV Registrations\")\n",
    "plt.tight_layout()\n",
    "plt.savefig(\"Output/States_comparison.png\")\n",
    "plt.show()\n",
    "\n",
    "renamed"
   ]
  },
  {
   "cell_type": "code",
   "execution_count": null,
   "id": "6f7c5da4",
   "metadata": {},
   "outputs": [],
   "source": [
    "#plotting postcodes with high EV ownership\n",
    "postcode= pd.read_csv(\"Resources/australian_postcodes.csv\")\n",
    "postcodes_df= postcode.rename(columns={\"postcode\":\"Postcode\"})\n",
    "postcodes_df[\"Postcode\"]= postcodes_df[\"Postcode\"].drop_duplicates()\n",
    "\n",
    "merged= pd.merge(BEV_data,postcodes_df, on=\"Postcode\", how=\"inner\")\n",
    "\n",
    "merged_short= merged[[\"Postcode\",\"Lat_precise\",\"Long_precise\",\"Registrations as at 31 January 2023\"]]\n",
    "BEV_postcodes = merged_short.sort_values(by=\"Registrations as at 31 January 2023\", ascending=False)\n",
    "top_postcodes= BEV_postcodes.loc[BEV_postcodes[\"Registrations as at 31 January 2023\"]>1000]\n",
    "\n",
    "BEV_plot = top_postcodes.hvplot.points(\"Long_precise\",\"Lat_precise\",\n",
    "    geo = True, color=\"Postcode\", size= \"Registrations as at 31 January 2023\",\n",
    "    tiles = \"OSM\", frame_width = 700, frame_height = 500, scale= 0.5, colorbar=False)\n",
    "\n",
    "BEV_plot\n",
    "#saved as EV ownersip locations using screen capture as could not get hvlpot save to run"
   ]
  },
  {
   "cell_type": "markdown",
   "id": "d83eeb11",
   "metadata": {},
   "source": [
    "## Mich plot of age breakdown per suburbs for each vehicle type"
   ]
  },
  {
   "cell_type": "markdown",
   "id": "d7974971",
   "metadata": {},
   "source": [
    "Battery Electric Vehicles"
   ]
  },
  {
   "cell_type": "code",
   "execution_count": null,
   "id": "9e97cf2b",
   "metadata": {},
   "outputs": [],
   "source": [
    "# read in the file\n",
    "plot_file_path = 'Resources/BEV_top10_total.csv'\n",
    "plot_df = pd.read_csv(plot_file_path)\n",
    "#filter out the total rows, first remove any leading or trailling spaces\n",
    "plot_df['Age'] = plot_df['Age'].str.strip()\n",
    "f_plot_df = plot_df[plot_df['Age'] != 'Total']\n",
    "#get the postcodes to plot from the datafile\n",
    "pc_to_plot = f_plot_df['Postcode'].unique()"
   ]
  },
  {
   "cell_type": "code",
   "execution_count": null,
   "id": "a65328bd",
   "metadata": {},
   "outputs": [],
   "source": [
    "# Set up the figure and axis\n",
    "plt.figure(figsize=(12, 8))\n",
    "ax = plt.subplot(111)\n",
    "\n",
    "# Set the width of each bar\n",
    "bar_width = 0.4\n",
    "\n",
    "# Plot all postcodes on one graph using a grouped bar plot\n",
    "for i, postcode in enumerate(pc_to_plot):\n",
    "    subset_by_postcode = f_plot_df[f_plot_df['Postcode'] == postcode]\n",
    "    \n",
    "    # Calculate the x-coordinates for each bar\n",
    "    x_positions = [j + i * (bar_width) for j in range(len(subset_by_postcode))]\n",
    "        \n",
    "    # Plot the bars\n",
    "    ax.bar(x_positions,\n",
    "           subset_by_postcode['Population'],\n",
    "           width=bar_width,\n",
    "           label=f'Postcode {postcode}', \n",
    "           alpha=0.7\n",
    "          )\n",
    "\n",
    "# Set x-axis ticks and labels\n",
    "ax.set_xticks([i + bar_width * (len(pc_to_plot) - 1) / 2 for i in range(len(subset_by_postcode))])\n",
    "ax.set_xticklabels(subset_by_postcode['Age'])\n",
    "\n",
    "plt.title('Population Breakdown by Age Groups - Top 10 BEV Postcodes')\n",
    "plt.xlabel('Age Groups')\n",
    "plt.ylabel('Population')\n",
    "plt.xticks(rotation=45, ha='right')  # Adjust rotation for better visibility\n",
    "plt.legend()\n",
    "plt.tight_layout()\n",
    "plt.savefig(f'Output/Population_Breakdown_Postcode_BEV.png')\n",
    "plt.show()"
   ]
  },
  {
   "cell_type": "markdown",
   "id": "f18c5d17",
   "metadata": {},
   "source": [
    "Hybrid Vehicles"
   ]
  },
  {
   "cell_type": "code",
   "execution_count": null,
   "id": "df245ca4",
   "metadata": {},
   "outputs": [],
   "source": [
    "# read in the file\n",
    "plot_file_path = 'Resources/Hybrid_top10_total.csv'\n",
    "plot_df = pd.read_csv(plot_file_path)\n",
    "#filter out the total rows, first remove any leading or trailling spaces\n",
    "plot_df['Age'] = plot_df['Age'].str.strip()\n",
    "f_plot_df = plot_df[plot_df['Age'] != 'Total']\n",
    "#get the postcodes to plot from the datafile\n",
    "pc_to_plot = f_plot_df['Postcode'].unique()"
   ]
  },
  {
   "cell_type": "code",
   "execution_count": null,
   "id": "50ba5795",
   "metadata": {},
   "outputs": [],
   "source": [
    "# Set up the figure and axis\n",
    "plt.figure(figsize=(12, 8))\n",
    "ax = plt.subplot(111)\n",
    "\n",
    "# Set the width of each bar\n",
    "bar_width = 0.4\n",
    "\n",
    "# Plot all postcodes on one graph using a grouped bar plot\n",
    "for i, postcode in enumerate(pc_to_plot):\n",
    "    subset_by_postcode = f_plot_df[f_plot_df['Postcode'] == postcode]\n",
    "    \n",
    "    # Calculate the x-coordinates for each bar\n",
    "    x_positions = [j + i * (bar_width) for j in range(len(subset_by_postcode))]\n",
    "    \n",
    "    # Plot the bars\n",
    "    ax.bar(x_positions,\n",
    "           subset_by_postcode['Population'],\n",
    "           width=bar_width,\n",
    "           label=f'Postcode {postcode}', \n",
    "           alpha=0.5\n",
    "          )\n",
    "\n",
    "# Set x-axis ticks and labels\n",
    "ax.set_xticks([i + bar_width * (len(pc_to_plot) - 1) / 2 for i in range(len(subset_by_postcode))])\n",
    "ax.set_xticklabels(subset_by_postcode['Age'])\n",
    "\n",
    "plt.title('Population Breakdown by Age Groups - Top 10 Hybrid Postcodes')\n",
    "plt.xlabel('Age Groups')\n",
    "plt.ylabel('Population')\n",
    "plt.xticks(rotation=45, ha='right')  # Adjust rotation for better visibility\n",
    "plt.legend()\n",
    "plt.tight_layout()\n",
    "plt.savefig(f'Output/Population_Breakdown_Postcode_Hybrid.png')\n",
    "plt.show()"
   ]
  },
  {
   "cell_type": "markdown",
   "id": "e89307c2",
   "metadata": {},
   "source": [
    "Internal Combustion Engines"
   ]
  },
  {
   "cell_type": "code",
   "execution_count": null,
   "id": "4a160613",
   "metadata": {},
   "outputs": [],
   "source": [
    "# read in the file\n",
    "plot_file_path = 'Resources/ICE_top10_total.csv'\n",
    "plot_df = pd.read_csv(plot_file_path)\n",
    "#filter out the total rows, first remove any leading or trailling spaces\n",
    "plot_df['Age'] = plot_df['Age'].str.strip()\n",
    "f_plot_df = plot_df[plot_df['Age'] != 'Total']\n",
    "#get the postcodes to plot from the datafile\n",
    "pc_to_plot = f_plot_df['Postcode'].unique()\n"
   ]
  },
  {
   "cell_type": "code",
   "execution_count": null,
   "id": "e540c2eb",
   "metadata": {},
   "outputs": [],
   "source": [
    "# Set up the figure and axis\n",
    "plt.figure(figsize=(12, 8))\n",
    "ax = plt.subplot(111)\n",
    "\n",
    "# Set the width of each bar\n",
    "bar_width = 0.4\n",
    "\n",
    "# Plot all postcodes on one graph using a grouped bar plot\n",
    "for i, postcode in enumerate(pc_to_plot):\n",
    "    subset_by_postcode = f_plot_df[f_plot_df['Postcode'] == postcode]\n",
    "    \n",
    "    # Calculate the x-coordinates for each bar\n",
    "    x_positions = [j + i * (bar_width) for j in range(len(subset_by_postcode))]\n",
    "    \n",
    "    # Plot the bars\n",
    "    ax.bar(x_positions,\n",
    "           subset_by_postcode['Population'],\n",
    "           width=bar_width,\n",
    "           label=f'Postcode {postcode}', \n",
    "           alpha=0.5\n",
    "          )\n",
    "\n",
    "# Set x-axis ticks and labels\n",
    "ax.set_xticks([i + bar_width * (len(pc_to_plot) - 1) / 2 for i in range(len(subset_by_postcode))])\n",
    "ax.set_xticklabels(subset_by_postcode['Age'])\n",
    "\n",
    "plt.title('Population Breakdown by Age Groups - Top 10 ICE Postcodes')\n",
    "plt.xlabel('Age Groups')\n",
    "plt.ylabel('Population')\n",
    "plt.xticks(rotation=45, ha='right')  # Adjust rotation for better visibility\n",
    "plt.legend()\n",
    "plt.tight_layout()\n",
    "plt.savefig(f'Output/Population_Breakdown_Postcode_ICE.png')\n",
    "plt.show()"
   ]
  },
  {
   "cell_type": "markdown",
   "id": "e1b6636a",
   "metadata": {},
   "source": [
    "# Pri coding for graph"
   ]
  },
  {
   "cell_type": "code",
   "execution_count": null,
   "id": "185e4574",
   "metadata": {},
   "outputs": [],
   "source": [
    "file_path = 'Resources/merged_data.csv'\n",
    "data = pd.read_csv(file_path)\n",
    "\n",
    "# Filter the data for only BEV (Battery Electric Vehicles)\n",
    "bev_data = data[data['Fuel Type'] == 'BEV']\n",
    "\n",
    "# Filter the data to include only the years 2021, 2022, and 2023\n",
    "years_of_interest = [2021, 2022, 2023]\n",
    "bev_data_years = bev_data[bev_data['Year'].isin(years_of_interest)]\n",
    "\n",
    "# Group the data by age and year to calculate average income and total registrations per age for each year\n",
    "grouped_data_years = bev_data_years.groupby(['Year', 'Age']).agg({'Average Income': 'mean', 'Registrations': 'sum'}).reset_index()\n",
    "\n",
    "# Define the colors for each year\n",
    "colors = {2021: 'green', 2022: 'blue', 2023: 'yellow'}\n",
    "\n",
    "# Plotting\n",
    "plt.figure(figsize=(12, 8))\n",
    "for year in years_of_interest:\n",
    "    year_data = grouped_data_years[grouped_data_years['Year'] == year]\n",
    "    sns.scatterplot(data=year_data, x='Age', y='Average Income', size='Registrations', \n",
    "                    color=colors[year], sizes=(20, 2000), marker='o')\n",
    "\n",
    "plt.title('Average Income vs Age of BEVs Owners (2021-2023)')\n",
    "plt.xlabel('Age')\n",
    "plt.ylabel('Average Income (Weekly)')\n",
    "plt.grid(True)\n",
    "\n",
    "# Creating a custom legend for years\n",
    "legend_labels = [plt.Line2D([0], [0], color=color, lw=4, marker='o', markersize=10) for color in colors.values()]\n",
    "plt.legend(legend_labels, [f'{year}' for year in years_of_interest], title='Year')\n",
    "plt.savefig(f'Output/Average_Income_vs_Age_of_BEV_owners.png')\n",
    "plt.show()"
   ]
  },
  {
   "cell_type": "code",
   "execution_count": null,
   "id": "a28b8691",
   "metadata": {},
   "outputs": [],
   "source": []
  }
 ],
 "metadata": {
  "kernelspec": {
   "display_name": "Python 3 (ipykernel)",
   "language": "python",
   "name": "python3"
  },
  "language_info": {
   "codemirror_mode": {
    "name": "ipython",
    "version": 3
   },
   "file_extension": ".py",
   "mimetype": "text/x-python",
   "name": "python",
   "nbconvert_exporter": "python",
   "pygments_lexer": "ipython3",
   "version": "3.10.13"
  }
 },
 "nbformat": 4,
 "nbformat_minor": 5
}
