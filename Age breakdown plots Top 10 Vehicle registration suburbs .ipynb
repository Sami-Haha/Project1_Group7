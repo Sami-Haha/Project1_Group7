{
 "cells": [
  {
   "cell_type": "code",
   "execution_count": null,
   "id": "11d04fc5",
   "metadata": {},
   "outputs": [],
   "source": [
    "from pathlib import Path\n",
    "import pandas as pd\n",
    "import matplotlib.pyplot as plt"
   ]
  },
  {
   "cell_type": "code",
   "execution_count": null,
   "id": "f9b2b3a0",
   "metadata": {},
   "outputs": [],
   "source": [
    "\n",
    "#read in the datafile containing the fuel type and postcode\n",
    "top10_for2021_df = pd.read_csv('Cleaned_post_code_registration.csv')\n",
    "\n",
    "#remove the extra columns using column indices\n",
    "columns_to_keep_indices = [0,1,2,4]\n",
    "top10_for2021_df = top10_for2021_df.iloc[:, columns_to_keep_indices]\n",
    "\n",
    "#Sort the df based on number of registrations\n",
    "sorted_df = top10_for2021_df.sort_values(by= 'Registrations as at 31 January 2022', ascending=False)\n",
    "\n",
    "#Group by the fuel type\n",
    "grouped_df = sorted_df.groupby('Fuel Type')\n",
    "\n",
    "#Create a dictionary to store each fuel type\n",
    "fuel_type_ds = {}\n",
    "#for loop to get the top 10 and store in dictionary, also dropping Hydrogen Cell Vehicle.\n",
    "for fuel_type, group in grouped_df:\n",
    "    if fuel_type != 'Hydrogen Cell Vehicle':\n",
    "        fuel_type_ds[fuel_type] = group.head(10).reset_index(drop=True)\n"
   ]
  },
  {
   "cell_type": "code",
   "execution_count": null,
   "id": "6e9acf78",
   "metadata": {},
   "outputs": [],
   "source": [
    "resource_path = Path('Resources')\n",
    "#read in the income data to merge with the above dictionary\n",
    "income_df = pd.read_csv('Resources/C_obs_clean.csv')\n",
    "\n",
    "#create an empty dictionary for the merge\n",
    "merged_ds = {}\n",
    "\n",
    "#for loop to merge the datasets\n",
    "for fuel_type, fuel_type_df in fuel_type_ds.items():\n",
    "    merged_df = pd.merge(fuel_type_df, income_df, on='Postcode', how ='left')\n",
    "    #filter rows to remove Population of 0\n",
    "    merged_df = merged_df[merged_df['Population'] !=0]\n",
    "    merged_ds[fuel_type]= merged_df\n",
    "    #Save the output to a csv file for each fuel type\n",
    "    filename = resource_path / f'{fuel_type}_top10.csv'\n",
    "    merged_df.to_csv(filename, index=False)\n",
    "    #add print statement to show named files created\n",
    "    print(f'Saved {fuel_type} merge to {filename}')\n",
    "\n"
   ]
  },
  {
   "cell_type": "markdown",
   "id": "5e7a06f4",
   "metadata": {},
   "source": [
    "Manipulate the data in the Battery Electric Vehicle file to produce age distribution and income distributions"
   ]
  },
  {
   "cell_type": "code",
   "execution_count": null,
   "id": "497d5341",
   "metadata": {},
   "outputs": [],
   "source": [
    "#read in the file\n",
    "csv_file_path = 'Resources/Battery Electric Vehicle_top10.csv'\n",
    "BEV_df = pd.read_csv(csv_file_path)\n",
    "#Filter the rows where Income is 'Total'\n",
    "BEV_subset = BEV_df[BEV_df['Total personal income (weekly)'].str.contains('Total', case=False, na=False)]\n",
    "#Sort by registrations and then age group\n",
    "BEV_subset = BEV_subset.sort_values(by=['Registrations as at 31 January 2022', 'Age'], ascending=[False, True])\n",
    "subset_to_save = 'Resources/BEV_top10_total.csv'\n",
    "BEV_subset.to_csv(subset_to_save, index=False)"
   ]
  },
  {
   "cell_type": "markdown",
   "id": "689ad2eb",
   "metadata": {},
   "source": [
    "Manipulate the data in the Hybrid Vehicle file to produce age distribution and income distributions\n",
    "\n"
   ]
  },
  {
   "cell_type": "code",
   "execution_count": null,
   "id": "28967e91",
   "metadata": {},
   "outputs": [],
   "source": [
    "#read in the file\n",
    "csv_file_path = 'Resources/Hybrid_top10.csv'\n",
    "Hybrid_df = pd.read_csv(csv_file_path)\n",
    "#Filter the rows where Income is 'Total'\n",
    "Hybrid_subset = Hybrid_df[Hybrid_df['Total personal income (weekly)'].str.contains('Total', case=False, na=False)]\n",
    "#Sort by registrations and then age group\n",
    "Hybrid_subset = Hybrid_subset.sort_values(by=['Registrations as at 31 January 2022', 'Age'], ascending=[False, True])\n",
    "subset_to_save = 'Resources/Hybrid_top10_total.csv'\n",
    "Hybrid_subset.to_csv(subset_to_save, index=False)"
   ]
  },
  {
   "cell_type": "markdown",
   "id": "12a0deb9",
   "metadata": {},
   "source": [
    "Manipulate the data in the Internal Combustion Engine Vehicle file to produce age distribution and income distributions"
   ]
  },
  {
   "cell_type": "code",
   "execution_count": null,
   "id": "94185fb6",
   "metadata": {},
   "outputs": [],
   "source": [
    "#read in the file\n",
    "csv_file_path = 'Resources/Internal Combustion Engine_top10.csv'\n",
    "ICE_df = pd.read_csv(csv_file_path)\n",
    "#Filter the rows where Income is 'Total'\n",
    "ICE_subset = ICE_df[ICE_df['Total personal income (weekly)'].str.contains('Total', case=False, na=False)]\n",
    "#Sort by registrations and then age group\n",
    "ICE_subset = ICE_subset.sort_values(by=['Registrations as at 31 January 2022', 'Age'], ascending=[False, True])\n",
    "subset_to_save = 'Resources/ICE_top10_total.csv'\n",
    "ICE_subset.to_csv(subset_to_save, index=False)"
   ]
  },
  {
   "cell_type": "markdown",
   "id": "69120140",
   "metadata": {},
   "source": [
    "## Plot the age breakdown of the suburbs"
   ]
  },
  {
   "cell_type": "markdown",
   "id": "820b5ad6",
   "metadata": {},
   "source": [
    "Battery Electric Vehicles"
   ]
  },
  {
   "cell_type": "code",
   "execution_count": null,
   "id": "b7c0c2d2",
   "metadata": {},
   "outputs": [],
   "source": [
    "# read in the file\n",
    "plot_file_path = 'Resources/BEV_top10_total.csv'\n",
    "plot_df = pd.read_csv(plot_file_path)\n",
    "#filter out the total rows, first remove any leading or trailling spaces\n",
    "plot_df['Age'] = plot_df['Age'].str.strip()\n",
    "f_plot_df = plot_df[plot_df['Age'] != 'Total']\n",
    "#get the postcodes to plot from the datafile\n",
    "pc_to_plot = f_plot_df['Postcode'].unique()\n"
   ]
  },
  {
   "cell_type": "code",
   "execution_count": null,
   "id": "1ed527d6",
   "metadata": {},
   "outputs": [],
   "source": [
    "# Set up the figure and axis\n",
    "plt.figure(figsize=(12, 8))\n",
    "ax = plt.subplot(111)\n",
    "\n",
    "# Set the width of each bar\n",
    "bar_width = 0.4\n",
    "\n",
    "# Plot all postcodes on one graph using a grouped bar plot\n",
    "for i, postcode in enumerate(pc_to_plot):\n",
    "    subset_by_postcode = f_plot_df[f_plot_df['Postcode'] == postcode]\n",
    "    \n",
    "    # Calculate the x-coordinates for each bar\n",
    "    x_positions = [j + i * (bar_width) for j in range(len(subset_by_postcode))]\n",
    "        \n",
    "    # Plot the bars\n",
    "    ax.bar(x_positions,\n",
    "           subset_by_postcode['Population'],\n",
    "           width=bar_width,\n",
    "           label=f'Postcode {postcode}', \n",
    "           alpha=0.7\n",
    "          )\n",
    "\n",
    "# Set x-axis ticks and labels\n",
    "ax.set_xticks([i + bar_width * (len(pc_to_plot) - 1) / 2 for i in range(len(subset_by_postcode))])\n",
    "ax.set_xticklabels(subset_by_postcode['Age'])\n",
    "\n",
    "plt.title('Population Breakdown by Age Groups - Top 10 BEV Postcodes')\n",
    "plt.xlabel('Age Groups')\n",
    "plt.ylabel('Population')\n",
    "plt.xticks(rotation=45, ha='right')  # Adjust rotation for better visibility\n",
    "plt.legend()\n",
    "plt.tight_layout()\n",
    "plt.savefig(f'Output/Population_Breakdown_Postcode_BEV.png')\n",
    "plt.show()"
   ]
  },
  {
   "cell_type": "markdown",
   "id": "2a4b23ab",
   "metadata": {},
   "source": [
    "Hybrid Vehicles"
   ]
  },
  {
   "cell_type": "code",
   "execution_count": null,
   "id": "05055ee1",
   "metadata": {},
   "outputs": [],
   "source": [
    "# read in the file\n",
    "plot_file_path = 'Resources/Hybrid_top10_total.csv'\n",
    "plot_df = pd.read_csv(plot_file_path)\n",
    "#filter out the total rows, first remove any leading or trailling spaces\n",
    "plot_df['Age'] = plot_df['Age'].str.strip()\n",
    "f_plot_df = plot_df[plot_df['Age'] != 'Total']\n",
    "#get the postcodes to plot from the datafile\n",
    "pc_to_plot = f_plot_df['Postcode'].unique()\n"
   ]
  },
  {
   "cell_type": "code",
   "execution_count": null,
   "id": "e45be2b5",
   "metadata": {},
   "outputs": [],
   "source": [
    "# Set up the figure and axis\n",
    "plt.figure(figsize=(12, 8))\n",
    "ax = plt.subplot(111)\n",
    "\n",
    "# Set the width of each bar\n",
    "bar_width = 0.4\n",
    "\n",
    "# Plot all postcodes on one graph using a grouped bar plot\n",
    "for i, postcode in enumerate(pc_to_plot):\n",
    "    subset_by_postcode = f_plot_df[f_plot_df['Postcode'] == postcode]\n",
    "    \n",
    "    # Calculate the x-coordinates for each bar\n",
    "    x_positions = [j + i * (bar_width) for j in range(len(subset_by_postcode))]\n",
    "    \n",
    "    # Plot the bars\n",
    "    ax.bar(x_positions,\n",
    "           subset_by_postcode['Population'],\n",
    "           width=bar_width,\n",
    "           label=f'Postcode {postcode}', \n",
    "           alpha=0.5\n",
    "          )\n",
    "\n",
    "# Set x-axis ticks and labels\n",
    "ax.set_xticks([i + bar_width * (len(pc_to_plot) - 1) / 2 for i in range(len(subset_by_postcode))])\n",
    "ax.set_xticklabels(subset_by_postcode['Age'])\n",
    "\n",
    "plt.title('Population Breakdown by Age Groups - Top 10 Hybrid Postcodes')\n",
    "plt.xlabel('Age Groups')\n",
    "plt.ylabel('Population')\n",
    "plt.xticks(rotation=45, ha='right')  # Adjust rotation for better visibility\n",
    "plt.legend()\n",
    "plt.tight_layout()\n",
    "plt.savefig(f'Output/Population_Breakdown_Postcode_Hybrid.png')\n",
    "plt.show()"
   ]
  },
  {
   "cell_type": "markdown",
   "id": "0ad0d31e",
   "metadata": {},
   "source": [
    "Internal Combustion Engines"
   ]
  },
  {
   "cell_type": "code",
   "execution_count": null,
   "id": "56d49689",
   "metadata": {},
   "outputs": [],
   "source": [
    "# read in the file\n",
    "plot_file_path = 'Resources/ICE_top10_total.csv'\n",
    "plot_df = pd.read_csv(plot_file_path)\n",
    "#filter out the total rows, first remove any leading or trailling spaces\n",
    "plot_df['Age'] = plot_df['Age'].str.strip()\n",
    "f_plot_df = plot_df[plot_df['Age'] != 'Total']\n",
    "#get the postcodes to plot from the datafile\n",
    "pc_to_plot = f_plot_df['Postcode'].unique()\n"
   ]
  },
  {
   "cell_type": "code",
   "execution_count": null,
   "id": "d6a5b162",
   "metadata": {},
   "outputs": [],
   "source": [
    "# Set up the figure and axis\n",
    "plt.figure(figsize=(12, 8))\n",
    "ax = plt.subplot(111)\n",
    "\n",
    "# Set the width of each bar\n",
    "bar_width = 0.4\n",
    "\n",
    "# Plot all postcodes on one graph using a grouped bar plot\n",
    "for i, postcode in enumerate(pc_to_plot):\n",
    "    subset_by_postcode = f_plot_df[f_plot_df['Postcode'] == postcode]\n",
    "    \n",
    "    # Calculate the x-coordinates for each bar\n",
    "    x_positions = [j + i * (bar_width) for j in range(len(subset_by_postcode))]\n",
    "    \n",
    "    # Plot the bars\n",
    "    ax.bar(x_positions,\n",
    "           subset_by_postcode['Population'],\n",
    "           width=bar_width,\n",
    "           label=f'Postcode {postcode}', \n",
    "           alpha=0.5\n",
    "          )\n",
    "\n",
    "# Set x-axis ticks and labels\n",
    "ax.set_xticks([i + bar_width * (len(pc_to_plot) - 1) / 2 for i in range(len(subset_by_postcode))])\n",
    "ax.set_xticklabels(subset_by_postcode['Age'])\n",
    "\n",
    "plt.title('Population Breakdown by Age Groups - Top 10 ICE Postcodes')\n",
    "plt.xlabel('Age Groups')\n",
    "plt.ylabel('Population')\n",
    "plt.xticks(rotation=45, ha='right')  # Adjust rotation for better visibility\n",
    "plt.legend()\n",
    "plt.tight_layout()\n",
    "plt.savefig(f'Output/Population_Breakdown_Postcode_ICE.png')\n",
    "plt.show()"
   ]
  }
 ],
 "metadata": {
  "kernelspec": {
   "display_name": "Python 3 (ipykernel)",
   "language": "python",
   "name": "python3"
  },
  "language_info": {
   "codemirror_mode": {
    "name": "ipython",
    "version": 3
   },
   "file_extension": ".py",
   "mimetype": "text/x-python",
   "name": "python",
   "nbconvert_exporter": "python",
   "pygments_lexer": "ipython3",
   "version": "3.10.13"
  }
 },
 "nbformat": 4,
 "nbformat_minor": 5
}
