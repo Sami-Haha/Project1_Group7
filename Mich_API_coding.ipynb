{
 "cells": [
  {
   "cell_type": "code",
   "execution_count": null,
   "id": "37d45aab",
   "metadata": {},
   "outputs": [],
   "source": [
    "#Dependencies and Setup\n",
    "from pathlib import Path\n",
    "import pandas as pd\n",
    "import numpy as np\n",
    "import requests\n",
    "import warnings\n",
    "warnings.filterwarnings('ignore')\n",
    "# Import the ABS Census API\n",
    "from config import Census\n"
   ]
  },
  {
   "cell_type": "code",
   "execution_count": null,
   "id": "d36fe6ed",
   "metadata": {},
   "outputs": [],
   "source": [
    "# Define query for API extraction\n",
    "def query_abs_information(Census):\n",
    "    # ABS API endpoint - dataFlowIdentifier, dataFlowId and Version \n",
    "    base_url = 'https://api.data.abs.gov.au/data'\n",
    "    endpoint1 = 'ABS,C21_G04_POA,1.0.0'\n",
    "    endpoint2 = 'ABS,C21_G33_SAL,1.0.0'\n",
    "    url\n",
    "    # ADD API key to the header information\n",
    "    headers = {'x-api-key': Census}\n",
    "    \n",
    "    #define parameters\n",
    "    params = {'dimensionsAtObservation': 'AllDimensions', 'format':jsondata}\n",
    "    \n",
    "    #Use try except for error handling\n",
    "    try:\n",
    "        #Make the API requestand put into datafile\n",
    "        response = requests.get(url, headers=headers, params=params)\n",
    "        census_df = response.json()\n",
    "        \n",
    "    except Exception as e:\n",
    "        print(f'Error retrieivng data {e}')\n",
    "    "
   ]
  },
  {
   "cell_type": "code",
   "execution_count": null,
   "id": "cc0b1ec0",
   "metadata": {},
   "outputs": [],
   "source": []
  }
 ],
 "metadata": {
  "kernelspec": {
   "display_name": "Python 3 (ipykernel)",
   "language": "python",
   "name": "python3"
  },
  "language_info": {
   "codemirror_mode": {
    "name": "ipython",
    "version": 3
   },
   "file_extension": ".py",
   "mimetype": "text/x-python",
   "name": "python",
   "nbconvert_exporter": "python",
   "pygments_lexer": "ipython3",
   "version": "3.10.13"
  }
 },
 "nbformat": 4,
 "nbformat_minor": 5
}
